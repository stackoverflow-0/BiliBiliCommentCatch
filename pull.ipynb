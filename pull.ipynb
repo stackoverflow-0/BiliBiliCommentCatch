{
 "cells": [
  {
   "cell_type": "code",
   "execution_count": 57,
   "metadata": {},
   "outputs": [],
   "source": [
    "import time\n",
    "import requests\n",
    "import os\n",
    "from snownlp import SnowNLP\n",
    "import numpy as np"
   ]
  },
  {
   "cell_type": "code",
   "execution_count": 58,
   "metadata": {},
   "outputs": [],
   "source": [
    "\n",
    "\n",
    "def get_data(data):\n",
    "    data_list = []\n",
    "    comment_data_list = data[\"data\"][\"replies\"]\n",
    "    for i in comment_data_list:\n",
    "        data_list.append((i['rpid'],\n",
    "                          i['like'],\n",
    "                          i['member']['uname'],\n",
    "                          i['member']['sex'],\n",
    "                          i['member']['level_info']['current_level'],\n",
    "                          i['content']['message'],\n",
    "                          i['reply_control']['time_desc']))\n",
    "    return data_list\n",
    "\n",
    "\n",
    "def save_data(data_type, data):\n",
    "    if not os.path.exists(data_type + r'_data.csv'):\n",
    "        f = open(data_type + r\"_data.csv\", \"w\", encoding='utf-8')\n",
    "        f.write(\"rpid,点赞数量,用户,性别,等级,评论内容,发布时间\\n\")\n",
    "    else:\n",
    "        f = open(data_type + r\"_data.csv\", \"a+\", encoding='utf-8')\n",
    "    for comment_info in data:\n",
    "        rpid,like_count,user,sex,level,content,time = comment_info\n",
    "        user = user.replace(',', '，')\n",
    "        content = content.replace(',', '，')\n",
    "        content = content.replace('\\n','')\n",
    "        content = content[(content.find(\":\")+1):]\n",
    "        row = '{},{},{},{},{},{},{}'.format(rpid,like_count,user,sex,level,content,time)\n",
    "        f.write(row)\n",
    "        f.write('\\n')\n",
    "    f.close()\n",
    "\n",
    "def bv2av(bv:str)->str:\n",
    "    response = requests.get(url='https://api.bilibili.com/x/web-interface/view',params={'bvid':bv})\n",
    "    av = str(response.json()['data']['aid'])\n",
    "    return av\n"
   ]
  },
  {
   "cell_type": "code",
   "execution_count": 60,
   "metadata": {},
   "outputs": [
    {
     "name": "stdout",
     "output_type": "stream",
     "text": [
      "https://api.bilibili.com/x/v2/reply/main?jsonp=jsonp&next=0&type=1&oid=206719735&mode=3&plat=1\n",
      "https://api.bilibili.com/x/v2/reply/main?jsonp=jsonp&next=1&type=1&oid=206719735&mode=3&plat=1\n",
      "https://api.bilibili.com/x/v2/reply/main?jsonp=jsonp&next=2&type=1&oid=206719735&mode=3&plat=1\n",
      "https://api.bilibili.com/x/v2/reply/main?jsonp=jsonp&next=3&type=1&oid=206719735&mode=3&plat=1\n"
     ]
    }
   ],
   "source": [
    "!rm *.csv\n",
    "video_url =  'https://www.bilibili.com/video/BV1Dh41167W4'\n",
    "bv = video_url.split('/')[-1]\n",
    "oid = bv2av(bv)\n",
    "for i in range(30000):\n",
    "    url = \"https://api.bilibili.com/x/v2/reply/main?jsonp=jsonp&next={}&type=1&oid={}&mode=3&plat=1\".format(str(i),oid)\n",
    "    print(url)\n",
    "    d = requests.get(url)\n",
    "    data = d.json()\n",
    "    if not data['data']['replies']:\n",
    "        break\n",
    "    m_data = get_data(data)\n",
    "    save_data(\"main\", m_data)\n",
    "    for j in m_data:\n",
    "        reply_url = \"https://api.bilibili.com/x/v2/reply/reply?jsonp=jsonp&pn=1&type=1&oid={}&ps=10&root={}\".format(oid,str(j[0]))\n",
    "        r = requests.get(reply_url)\n",
    "        r_data = r.json()\n",
    "        if not r_data['data']['replies']:\n",
    "            break\n",
    "        reply_data = get_data(r_data)\n",
    "        save_data(\"reply\", reply_data)\n",
    "        # break\n",
    "        time.sleep(5)\n",
    "    # break\n",
    "    time.sleep(5)\n"
   ]
  }
 ],
 "metadata": {
  "kernelspec": {
   "display_name": "Python 3.9.12 ('base')",
   "language": "python",
   "name": "python3"
  },
  "language_info": {
   "codemirror_mode": {
    "name": "ipython",
    "version": 3
   },
   "file_extension": ".py",
   "mimetype": "text/x-python",
   "name": "python",
   "nbconvert_exporter": "python",
   "pygments_lexer": "ipython3",
   "version": "3.9.12 (main, Apr  4 2022, 05:22:27) [MSC v.1916 64 bit (AMD64)]"
  },
  "orig_nbformat": 4,
  "vscode": {
   "interpreter": {
    "hash": "ad2bdc8ecc057115af97d19610ffacc2b4e99fae6737bb82f5d7fb13d2f2c186"
   }
  }
 },
 "nbformat": 4,
 "nbformat_minor": 2
}
